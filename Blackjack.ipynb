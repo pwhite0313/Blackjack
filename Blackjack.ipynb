{
 "cells": [
  {
   "cell_type": "code",
   "execution_count": null,
   "id": "cb470cb0-7051-4c77-bdbd-4c6d1538892a",
   "metadata": {},
   "outputs": [],
   "source": [
    "# Black Jack"
   ]
  },
  {
   "cell_type": "code",
   "execution_count": 1,
   "id": "687df1e3-e95a-4bd8-a03d-870510fab139",
   "metadata": {},
   "outputs": [],
   "source": [
    "# Import libraries\n",
    "\n",
    "import pandas as pd\n",
    "import random\n",
    "import itertools"
   ]
  },
  {
   "cell_type": "code",
   "execution_count": 3,
   "id": "d29ee63a-a3b7-429e-9c8f-71351d17c437",
   "metadata": {},
   "outputs": [
    {
     "name": "stdout",
     "output_type": "stream",
     "text": [
      "[2, 3, 4, 5, 6, 7, 8, 9, 10, 'J', 'Q', 'K', 'A']\n"
     ]
    }
   ],
   "source": [
    "# Create \"face valu\" for cards\n",
    "\n",
    "card_front = []\n",
    "\n",
    "#  Loop for numbers\n",
    "for nums in range(2,11):\n",
    "    card_front.append(nums)\n",
    "\n",
    "#  Declare sting variables\n",
    "face_values = ['J', 'Q', 'K', 'A']\n",
    "\n",
    "\n",
    "# make list\n",
    "card_front.extend(face_values)\n",
    "    \n",
    "print(card_front)"
   ]
  },
  {
   "cell_type": "code",
   "execution_count": 5,
   "id": "fd289179-2280-4159-b9c1-63aaa3a64387",
   "metadata": {},
   "outputs": [],
   "source": [
    "# Assign suits to cards\n",
    "# This completes the cosmetic side of the card\n",
    "\n",
    "suits = [\"Diamond\", \"Spade\", \"Clover\", \"Heart\"]\n",
    "\n",
    "# Use itertools for Cartesian product\n",
    "faces = list(itertools.product(card_front,suits))"
   ]
  },
  {
   "cell_type": "code",
   "execution_count": 7,
   "id": "66b5387b-6e0c-49d8-88cc-31d75256ca61",
   "metadata": {},
   "outputs": [],
   "source": [
    "df = pd.DataFrame(faces, columns=['face_num', 'suit'])"
   ]
  },
  {
   "cell_type": "code",
   "execution_count": 9,
   "id": "f5e30632-83dd-4b31-81ed-dfe89e93a926",
   "metadata": {},
   "outputs": [
    {
     "name": "stdout",
     "output_type": "stream",
     "text": [
      "   face_num     suit\n",
      "0         2  Diamond\n",
      "1         2    Spade\n",
      "2         2   Clover\n",
      "3         2    Heart\n",
      "4         3  Diamond\n",
      "5         3    Spade\n",
      "6         3   Clover\n",
      "7         3    Heart\n",
      "8         4  Diamond\n",
      "9         4    Spade\n",
      "10        4   Clover\n",
      "11        4    Heart\n",
      "12        5  Diamond\n",
      "13        5    Spade\n",
      "14        5   Clover\n",
      "15        5    Heart\n",
      "16        6  Diamond\n",
      "17        6    Spade\n",
      "18        6   Clover\n",
      "19        6    Heart\n",
      "20        7  Diamond\n",
      "21        7    Spade\n",
      "22        7   Clover\n",
      "23        7    Heart\n",
      "24        8  Diamond\n",
      "25        8    Spade\n",
      "26        8   Clover\n",
      "27        8    Heart\n",
      "28        9  Diamond\n",
      "29        9    Spade\n",
      "30        9   Clover\n",
      "31        9    Heart\n",
      "32       10  Diamond\n",
      "33       10    Spade\n",
      "34       10   Clover\n",
      "35       10    Heart\n",
      "36        J  Diamond\n",
      "37        J    Spade\n",
      "38        J   Clover\n",
      "39        J    Heart\n",
      "40        Q  Diamond\n",
      "41        Q    Spade\n",
      "42        Q   Clover\n",
      "43        Q    Heart\n",
      "44        K  Diamond\n",
      "45        K    Spade\n",
      "46        K   Clover\n",
      "47        K    Heart\n",
      "48        A  Diamond\n",
      "49        A    Spade\n",
      "50        A   Clover\n",
      "51        A    Heart\n"
     ]
    }
   ],
   "source": [
    "print(df)"
   ]
  },
  {
   "cell_type": "code",
   "execution_count": 19,
   "id": "6a9b5aaa-e5be-418d-ab8d-4d159445b701",
   "metadata": {},
   "outputs": [
    {
     "name": "stdout",
     "output_type": "stream",
     "text": [
      "  face_num     suit\n",
      "0        2  Diamond\n",
      "  face_num   suit\n",
      "1        2  Spade\n",
      "  face_num    suit\n",
      "2        2  Clover\n",
      "  face_num   suit\n",
      "3        2  Heart\n",
      "  face_num     suit\n",
      "4        3  Diamond\n",
      "  face_num   suit\n",
      "5        3  Spade\n",
      "  face_num    suit\n",
      "6        3  Clover\n",
      "  face_num   suit\n",
      "7        3  Heart\n",
      "  face_num     suit\n",
      "8        4  Diamond\n",
      "  face_num   suit\n",
      "9        4  Spade\n",
      "   face_num    suit\n",
      "10        4  Clover\n",
      "   face_num   suit\n",
      "11        4  Heart\n",
      "   face_num     suit\n",
      "12        5  Diamond\n",
      "   face_num   suit\n",
      "13        5  Spade\n",
      "   face_num    suit\n",
      "14        5  Clover\n",
      "   face_num   suit\n",
      "15        5  Heart\n",
      "   face_num     suit\n",
      "16        6  Diamond\n",
      "   face_num   suit\n",
      "17        6  Spade\n",
      "   face_num    suit\n",
      "18        6  Clover\n",
      "   face_num   suit\n",
      "19        6  Heart\n",
      "   face_num     suit\n",
      "20        7  Diamond\n",
      "   face_num   suit\n",
      "21        7  Spade\n",
      "   face_num    suit\n",
      "22        7  Clover\n",
      "   face_num   suit\n",
      "23        7  Heart\n",
      "   face_num     suit\n",
      "24        8  Diamond\n",
      "   face_num   suit\n",
      "25        8  Spade\n",
      "   face_num    suit\n",
      "26        8  Clover\n",
      "   face_num   suit\n",
      "27        8  Heart\n",
      "   face_num     suit\n",
      "28        9  Diamond\n",
      "   face_num   suit\n",
      "29        9  Spade\n",
      "   face_num    suit\n",
      "30        9  Clover\n",
      "   face_num   suit\n",
      "31        9  Heart\n",
      "   face_num     suit\n",
      "32       10  Diamond\n",
      "   face_num   suit\n",
      "33       10  Spade\n",
      "   face_num    suit\n",
      "34       10  Clover\n",
      "   face_num   suit\n",
      "35       10  Heart\n",
      "   face_num     suit\n",
      "36        J  Diamond\n",
      "   face_num   suit\n",
      "37        J  Spade\n",
      "   face_num    suit\n",
      "38        J  Clover\n",
      "   face_num   suit\n",
      "39        J  Heart\n",
      "   face_num     suit\n",
      "40        Q  Diamond\n",
      "   face_num   suit\n",
      "41        Q  Spade\n",
      "   face_num    suit\n",
      "42        Q  Clover\n",
      "   face_num   suit\n",
      "43        Q  Heart\n",
      "   face_num     suit\n",
      "44        K  Diamond\n",
      "   face_num   suit\n",
      "45        K  Spade\n",
      "   face_num    suit\n",
      "46        K  Clover\n",
      "   face_num   suit\n",
      "47        K  Heart\n",
      "   face_num     suit\n",
      "48        A  Diamond\n",
      "   face_num   suit\n",
      "49        A  Spade\n",
      "   face_num    suit\n",
      "50        A  Clover\n",
      "   face_num   suit\n",
      "51        A  Heart\n"
     ]
    }
   ],
   "source": [
    "df['card_val'] = [1 if "
   ]
  },
  {
   "cell_type": "code",
   "execution_count": null,
   "id": "b5e4e09c-cf28-46bc-a226-cfd653545b74",
   "metadata": {},
   "outputs": [],
   "source": [
    "\n",
    "df['vals'] = [1 if \n",
    "for x in range(len(faces-1)):\n",
    "    if x == 'A':\n",
    "        card_values.append(1)\n",
    "    elif isinstance(x, str):\n",
    "        card_values.append(12)\n",
    "    else:\n",
    "        card_values.append(x)"
   ]
  },
  {
   "cell_type": "code",
   "execution_count": null,
   "id": "6ff308e5-9e3a-4d7b-8a7a-2f9d38b5f7da",
   "metadata": {},
   "outputs": [],
   "source": [
    "# create card values by assigning face cards 12, except ACE, and numbers their values\n",
    "card_values = []\n",
    "\n",
    "for x, y in faces:\n",
    "    if x == 'A':\n",
    "        card_values.append(1)\n",
    "    elif isinstance(x, str):\n",
    "        card_values.append(12)\n",
    "    else:\n",
    "        card_values.append(x)\n",
    "\n",
    "# Check card value list\n",
    "print(card_values)"
   ]
  },
  {
   "cell_type": "code",
   "execution_count": null,
   "id": "189c3f5b-a06d-4850-b5c1-446db46fbd8e",
   "metadata": {},
   "outputs": [],
   "source": [
    "# Create dictionary to prep deck DF\n",
    "deck_prep = {}\n",
    "\n",
    "deck_prep = {key: value for key, value in zip(card_front, card_values)}\n",
    "\n",
    "# Shape the dataframe long\n",
    "deck = pd.DataFrame(deck_prep, index = range(0,53))\n",
    "\n",
    "print(deck_prep)"
   ]
  },
  {
   "cell_type": "code",
   "execution_count": null,
   "id": "2a7923ca-bb08-48ad-9696-c70d1c611b1e",
   "metadata": {},
   "outputs": [],
   "source": [
    "# Assign suits to cards and calues\n",
    "\n",
    "\n",
    "\n"
   ]
  },
  {
   "cell_type": "code",
   "execution_count": null,
   "id": "96ee555b-af0c-4bcb-beba-0b2b9b9c8458",
   "metadata": {},
   "outputs": [],
   "source": [
    "# Make df\n",
    "\n",
    "deck = {\n",
    "        'suite': [\"Diamond\", \"Spade\", \"Clover\" \"Heart\"],\n",
    "        'value': card_values\n",
    "}"
   ]
  },
  {
   "cell_type": "code",
   "execution_count": null,
   "id": "0175a5c3-d2fd-4a9f-a3fe-1a164f349c89",
   "metadata": {},
   "outputs": [],
   "source": [
    "print(df)"
   ]
  },
  {
   "cell_type": "code",
   "execution_count": null,
   "id": "5a9dc54a-5887-428f-962e-955c6e0ffae1",
   "metadata": {},
   "outputs": [],
   "source": [
    "random.seed(5)"
   ]
  },
  {
   "cell_type": "raw",
   "id": "3ae76666-2bbd-4af9-8390-301ce6bdeeb9",
   "metadata": {},
   "source": [
    "print(1random.random()"
   ]
  }
 ],
 "metadata": {
  "kernelspec": {
   "display_name": "Python [conda env:base] *",
   "language": "python",
   "name": "conda-base-py"
  },
  "language_info": {
   "codemirror_mode": {
    "name": "ipython",
    "version": 3
   },
   "file_extension": ".py",
   "mimetype": "text/x-python",
   "name": "python",
   "nbconvert_exporter": "python",
   "pygments_lexer": "ipython3",
   "version": "3.12.7"
  }
 },
 "nbformat": 4,
 "nbformat_minor": 5
}
