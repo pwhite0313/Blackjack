{
 "cells": [
  {
   "cell_type": "code",
   "execution_count": null,
   "id": "cb470cb0-7051-4c77-bdbd-4c6d1538892a",
   "metadata": {},
   "outputs": [],
   "source": [
    "# Black Jack"
   ]
  },
  {
   "cell_type": "code",
   "execution_count": null,
   "id": "687df1e3-e95a-4bd8-a03d-870510fab139",
   "metadata": {},
   "outputs": [],
   "source": [
    "# Import libraries\n",
    "\n",
    "import pandas as pd\n",
    "import random\n",
    "import itertools\n",
    "import numpy as np"
   ]
  },
  {
   "cell_type": "code",
   "execution_count": null,
   "id": "d29ee63a-a3b7-429e-9c8f-71351d17c437",
   "metadata": {},
   "outputs": [],
   "source": [
    "# Create \"face value\" for cards\n",
    "\n",
    "card_front = []\n",
    "\n",
    "#  Loop for numbers\n",
    "for nums in range(2,11):\n",
    "    card_front.append(nums)\n",
    "\n",
    "#  Declare sting variables\n",
    "face_values = ['J', 'Q', 'K', 'A']\n",
    "\n",
    "\n",
    "# make list\n",
    "card_front.extend(face_values)\n",
    "    \n",
    "print(card_front)"
   ]
  },
  {
   "cell_type": "code",
   "execution_count": null,
   "id": "fd289179-2280-4159-b9c1-63aaa3a64387",
   "metadata": {},
   "outputs": [],
   "source": [
    "# Assign suits to cards\n",
    "# This completes the cosmetic side of the card\n",
    "\n",
    "suits = [\"Diamond\", \"Spade\", \"Clover\", \"Heart\"]\n",
    "\n",
    "# Use itertools for Cartesian product\n",
    "faces = list(itertools.product(card_front,suits))"
   ]
  },
  {
   "cell_type": "code",
   "execution_count": null,
   "id": "66b5387b-6e0c-49d8-88cc-31d75256ca61",
   "metadata": {},
   "outputs": [],
   "source": [
    "# Create dataframe\n",
    "\n",
    "df = pd.DataFrame(faces, columns=['face_num', 'suit'])"
   ]
  },
  {
   "cell_type": "code",
   "execution_count": null,
   "id": "b5e4e09c-cf28-46bc-a226-cfd653545b74",
   "metadata": {},
   "outputs": [],
   "source": [
    "# Assign values of cards based on the face_value\n",
    "\n",
    "for x in range(len(df['face_num'])):\n",
    "    if df.iloc[x,0] == 'A':\n",
    "        df.loc[x,'face_value'] = 1\n",
    "    elif isinstance(df.iloc[x,0], str):\n",
    "        df.loc[x,'face_value'] = 12\n",
    "    else:\n",
    "        df.loc[x,'face_value'] = df.loc[x,'face_num']\n",
    "\n",
    "#Convert values to ints\n",
    "df['face_value'] = df['face_value'].astype(int)"
   ]
  },
  {
   "cell_type": "code",
   "execution_count": null,
   "id": "0175a5c3-d2fd-4a9f-a3fe-1a164f349c89",
   "metadata": {},
   "outputs": [],
   "source": [
    "print(df)"
   ]
  },
  {
   "cell_type": "code",
   "execution_count": null,
   "id": "5a9dc54a-5887-428f-962e-955c6e0ffae1",
   "metadata": {},
   "outputs": [],
   "source": [
    "random.seed(5)"
   ]
  }
 ],
 "metadata": {
  "kernelspec": {
   "display_name": "Python [conda env:base] *",
   "language": "python",
   "name": "conda-base-py"
  },
  "language_info": {
   "codemirror_mode": {
    "name": "ipython",
    "version": 3
   },
   "file_extension": ".py",
   "mimetype": "text/x-python",
   "name": "python",
   "nbconvert_exporter": "python",
   "pygments_lexer": "ipython3",
   "version": "3.12.7"
  }
 },
 "nbformat": 4,
 "nbformat_minor": 5
}
